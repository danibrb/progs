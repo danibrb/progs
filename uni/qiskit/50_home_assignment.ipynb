{
 "cells": [
  {
   "cell_type": "markdown",
   "metadata": {},
   "source": [
    "# HOME ASSIGNMENT 2\n",
    "## Algoritmo di Deutcsh-Jozsa\n",
    "\n",
    "Implementare l'algoritmo su un sistema a due qubit per una funzione bilanciata"
   ]
  },
  {
   "cell_type": "markdown",
   "metadata": {},
   "source": [
    "## 1. Introduzione\n",
    "\n",
    "Questo algoritmo è stato uno dei primi esempi che evidenziano il vantaggio computazionale di un algoritmo quantistico rispetto a uno classico.\\\n",
    "Si può considerare come un estensione di quello di Deutch, in quanto permette di lavorare con funzioni a n bit di input.\n",
    "\n",
    "### 1.1 Il problema\n",
    "\n",
    "Data una funzione $f: \\{0,1\\}^n \\rightarrow \\{0,1\\}$ con n bit di input e un bit di output, si vuole determinare se è costante o bilanciata.\\\n",
    "Una funzione è **costante** se assume lo stesso valore per ogni input, **bilanciata** se assume 0 per metà degli input e 1 per la restante metà.\n",
    "\n",
    "### 1.2 L'approccio classico\n",
    "\n",
    "Per determinare il tipo servono almeno due chiamate alla funzione nel caso migliore. Infatti se otteniamo due output diversi per due stringhe di input diverse, allora la funzione sarà sicuramente bilanciata.\\\n",
    "Nel caso peggiore dobbiamo testare metà più uno input per capire se la funzione è costante. In particolare, se abbiamo *n* bit, servono $2^{n-1}+1$ chiamate alla funzione.\n",
    "\n",
    "### 1.3 L'approccio quantistico\n",
    "\n",
    "Con questa strategia il problema viene risolto chiamando la funzione $f$ una sola volta.\\\n",
    "Il circuito quantistico che implementa l'algoritmo è rappresentato in figura.\n",
    "$\\\\[10px]$\n",
    "\n",
    "![Circuito](circuito_dj.png)\n",
    "\n",
    "$\\\\[10px]$\n",
    "\n",
    "#### 1.3.1 I passaggi\n",
    "\n",
    "1. Si prepararano due registri quantistici. Il primo formato da *n*-qubit, inizializzati a $|0\\rangle$ e il secondo formato da un qubit inizializzato a $|1\\rangle$.\n",
    "\n",
    "$$\\vert \\psi_0 \\rangle = \\vert0\\rangle^{\\otimes n} \\vert 1\\rangle$$\n",
    "\n",
    "2. Applichiamo $n+1$ porte di Hadamard, per ottenere la sovrapposizione di tutte le stringhe di bit che rappresentano gli interi da 0 a $N-1=2^n-1$\n",
    "\n",
    "$$\\vert \\psi_1 \\rangle = \\frac{1}{\\sqrt{N}}\\sum_{x=0}^{N-1} \\vert x\\rangle \\frac{\\vert 0\\rangle - \\vert 1 \\rangle}{\\sqrt{2}}$$\n",
    "\n",
    "3. Applichiamo l'operatore $U_f:\\vert x\\rangle \\vert y\\rangle \\rightarrow \\vert x\\rangle \\vert y \\oplus f(x)\\rangle$, otteniamo lo stato:\n",
    "\n",
    "$$\n",
    "\\vert \\psi_2 \\rangle = \\frac{1}{\\sqrt{N}}\\sum_{x=0}^{N-1} \\vert x\\rangle \\otimes\n",
    "\\frac{\\vert 0 \\oplus f(x)\\rangle - \\vert 1 \\oplus f(x)\\rangle}{\\sqrt{2}}$$\n",
    "$\\\\[20px]$\n",
    "se $f(x)=0 \\rightarrow \\vert 0 \\oplus 0 \\rangle - \\vert 1 \\oplus 0 \\rangle = \\vert 0 \\rangle - \\vert 1 \\rangle = (-1)^{f(x)}(\\vert 0 \\rangle - \\vert 1 \\rangle)\\\\[5px]$\n",
    "se $f(x)=1 \\rightarrow \\vert 0 \\oplus 1 \\rangle - \\vert 1 \\oplus 1 \\rangle = \\vert 1 \\rangle - \\vert 0 \\rangle = (-1)^{f(x)}(\\vert 0 \\rangle - \\vert 1 \\rangle)\\\\[5px]$\n",
    "\n",
    "sinteticamente possiamo scrivere:\n",
    "\n",
    "$$\\vert \\psi_2 \\rangle = \\frac{1}{\\sqrt{N}}\\sum_{x=0}^{N-1} (-1)^{f(x)} \\vert x\\rangle \\otimes\\frac{\\vert 0\\rangle - \\vert 1\\rangle}{\\sqrt{2}}$$\n",
    "\n",
    "Possiamo notare che il qubit $\\vert y \\rangle$ è rimasto nello stato $\\dfrac{\\vert 0\\rangle - \\vert 1 \\rangle}{\\sqrt{2}}$, mentre il registro $\\vert x \\rangle$ ha acquisito una fase $(-1)^{f(x)}$\n",
    "\n",
    "4. Applichiamo n porte di Hadamard ai primi *n* qubit.\n",
    "Consideriamo l'effetto di una singola porta di Hadamard sul generico stato $\\vert k \\rangle$ con k=0, 1\n",
    "$$H\\vert k \\rangle = \\frac{1}{\\sqrt{2}}\\sum_{z=0}^{1}(-1)^{k\\, z} \\vert z \\rangle$$\n",
    "Dato che lo stato $\\vert x \\rangle \\equiv \\vert x_1, x_2, \\dots, x_n \\rangle$, l'effetto di n porte di Hadamard può essere scritto come:\n",
    "\n",
    "$$H^{\\otimes n}\\vert x_1, x_2, \\dots, x_n \\rangle = \\sum_{z_1, z_2, \\dots, z_n=0}^{1} \\frac{(-1)^{x_1z_1+x_2z_2+\\dots +x_nz_n}}{\\sqrt{N}}\n",
    "\\vert z_1, z_2, \\dots, z_n \\rangle$$\n",
    "\n",
    "L'esponente rappresenta il prodotto interno bit a bit $x\\cdot z$, l'espressione precedente può essere riscritta come:\n",
    "$$H^{\\otimes n}\\vert x \\rangle = \\sum_{z=0}^{N-1} \\frac{(-1)^{x \\cdot z}}{\\sqrt{N}}\\vert z \\rangle$$\n",
    "\n",
    "Sostituiamo questo risultato nell'espressione di $\\vert \\psi_2 \\rangle$:\n",
    "$$\\vert \\psi_3 \\rangle = \\sum_{x=0}^{N-1} \\sum_{z=0}^{N-1} \\frac{(-1)^{x \\cdot z + f(x)}}{\\sqrt{N}}\\vert z \\rangle\n",
    "\\frac{\\vert 0\\rangle - \\vert 1 \\rangle}{\\sqrt{2}}$$\n",
    "\n",
    "5. Infine effettuiamo una misura sui primi *n* qubit.\\\n",
    "Consideriamo lo stato $\\vert z \\rangle = \\vert 0^{\\otimes n} \\rangle$, dato che $z = 0 \\rightarrow x \\cdot z = 0$, la sua ampiezza di\n",
    "probabilità sarà $\\sum_{x=0}^{N-1} \\dfrac{(-1)^{f(x)}}{N}$\\\n",
    "Consideriamo i due casi della funzione.\\\n",
    "Se f è *costante* $f(x)=\\bar f$ allora il termine $(-1)^{f(x)}=(-1)^{\\bar f}$ non dipende da x e può essere portato fuori dalla sommatoria:\n",
    "\n",
    "$$\\sum_{x=0}^{N-1} \\frac{(-1)^{f(x)}}{N}=(-1)^{\\bar f}\\sum_{x=0}^{N-1} \\frac{1}{N}=(-1)^{\\bar f}$$\n",
    "\n",
    "Tale valore risulta 1 o -1. Per la condizione di nomalizzazione di $\\vert \\psi_3 \\rangle$ tutti gli altri stati devono avere coefficienti nulli.\\\n",
    "Una misura dei primi *n* qubit restituirà la stringa $0,0, \\dots, 0$ con probabilità 100%.\n",
    "$\\\\[10px]$\n",
    "Se f è *bilanciata* la sommatoria conterrà metà termini con valore +1 e metà con -1, ottenendo il totale di 0.\\\n",
    "La probabilità di ottenere lo stato $\\vert 0 \\rangle \\equiv \\vert 0,0, \\dots, 0\\rangle$ è nulla, quindi se nella misura finale otteniamo almeno un bit a 1, la funzione è bilanciata.\n",
    "\n",
    "#### 1.3.2 Riassumendo\n",
    "\n",
    "Se nella misura finale otteniamo la stringa $\\vert 0 \\rangle \\equiv \\vert 0,0, \\dots, 0\\rangle$, la funzione è *costante*.\\\n",
    "Se otteniamo anche un solo bit a 1, la funzione è *bilanciata*."
   ]
  },
  {
   "cell_type": "markdown",
   "metadata": {},
   "source": [
    "## 2. Simulazione utilizzando Qiskit\n",
    "\n",
    "### 2.1 Circuito quantistico\n",
    "\n",
    "Importiamo le librerie necessarie per il programma"
   ]
  },
  {
   "cell_type": "code",
   "execution_count": 33,
   "metadata": {},
   "outputs": [],
   "source": [
    "# Qiskit\n",
    "from qiskit import QuantumCircuit\n",
    "from qiskit import QuantumRegister\n",
    "from qiskit import ClassicalRegister\n"
   ]
  },
  {
   "cell_type": "markdown",
   "metadata": {},
   "source": [
    "Fissiamo il numero di qubit della nostra funzione da testare, nel nostro caso n=2"
   ]
  },
  {
   "cell_type": "code",
   "execution_count": 34,
   "metadata": {},
   "outputs": [],
   "source": [
    "# numero di ingressi\n",
    "n = 2\n",
    "\n",
    "# creo il circuito con n+1 qubit\n",
    "q = QuantumRegister(n+1, 'q')\n",
    "c = ClassicalRegister(n, 'c')\n",
    "qc= QuantumCircuit(q, c)"
   ]
  },
  {
   "cell_type": "markdown",
   "metadata": {},
   "source": [
    "Inizializziamo i primi n qubit a 0 e l'ultimo a 1 tramite una porta X"
   ]
  },
  {
   "cell_type": "code",
   "execution_count": 35,
   "metadata": {},
   "outputs": [
    {
     "data": {
      "text/plain": [
       "CircuitInstruction(operation=Instruction(name='barrier', num_qubits=3, num_clbits=0, params=[]), qubits=(Qubit(QuantumRegister(3, 'q'), 0), Qubit(QuantumRegister(3, 'q'), 1), Qubit(QuantumRegister(3, 'q'), 2)), clbits=())"
      ]
     },
     "execution_count": 35,
     "metadata": {},
     "output_type": "execute_result"
    }
   ],
   "source": [
    "qc.x(n)\n",
    "qc.barrier()"
   ]
  },
  {
   "cell_type": "markdown",
   "metadata": {},
   "source": [
    "Applichiamo n+1 porte di Hadamard per generare la sovrapposizione degli stati di ingresso"
   ]
  },
  {
   "cell_type": "code",
   "execution_count": 36,
   "metadata": {},
   "outputs": [
    {
     "data": {
      "text/plain": [
       "<qiskit.circuit.instructionset.InstructionSet at 0x1cdd6651ab0>"
      ]
     },
     "execution_count": 36,
     "metadata": {},
     "output_type": "execute_result"
    }
   ],
   "source": [
    "qc.h(range(n+1))"
   ]
  },
  {
   "cell_type": "markdown",
   "metadata": {},
   "source": [
    "Per implementare l'oracolo $U_f:\\vert x\\rangle \\vert y\\rangle \\rightarrow \\vert x\\rangle \\vert y \\oplus f(x)\\rangle$ per una funzione bilanciata,\n",
    "possiamo applicare *n* porte CNOT al qubit contenente lo stato $\\vert y\\rangle$ utilizzando i qubit del registro $\\vert x\\rangle$ come controllo."
   ]
  },
  {
   "cell_type": "code",
   "execution_count": 37,
   "metadata": {},
   "outputs": [
    {
     "data": {
      "text/plain": [
       "CircuitInstruction(operation=Instruction(name='barrier', num_qubits=3, num_clbits=0, params=[]), qubits=(Qubit(QuantumRegister(3, 'q'), 0), Qubit(QuantumRegister(3, 'q'), 1), Qubit(QuantumRegister(3, 'q'), 2)), clbits=())"
      ]
     },
     "execution_count": 37,
     "metadata": {},
     "output_type": "execute_result"
    }
   ],
   "source": [
    "# barriere per evidenziare l'oracolo\n",
    "qc.barrier()\n",
    "\n",
    "# applico le porte CNOT\n",
    "for qi in range(n):\n",
    "    qc.cx(qi, n)\n",
    "    \n",
    "qc.barrier()"
   ]
  },
  {
   "cell_type": "markdown",
   "metadata": {},
   "source": [
    "Applichiamo nuovamente le porte di Hadamard"
   ]
  },
  {
   "cell_type": "code",
   "execution_count": 38,
   "metadata": {},
   "outputs": [
    {
     "data": {
      "text/plain": [
       "CircuitInstruction(operation=Instruction(name='barrier', num_qubits=3, num_clbits=0, params=[]), qubits=(Qubit(QuantumRegister(3, 'q'), 0), Qubit(QuantumRegister(3, 'q'), 1), Qubit(QuantumRegister(3, 'q'), 2)), clbits=())"
      ]
     },
     "execution_count": 38,
     "metadata": {},
     "output_type": "execute_result"
    }
   ],
   "source": [
    "qc.h(range(n+1))\n",
    "qc.barrier()"
   ]
  },
  {
   "cell_type": "markdown",
   "metadata": {},
   "source": [
    "Facciamo la misura"
   ]
  },
  {
   "cell_type": "code",
   "execution_count": 39,
   "metadata": {},
   "outputs": [],
   "source": [
    "for i in range(n):\n",
    "    qc.measure(i, i)"
   ]
  },
  {
   "cell_type": "markdown",
   "metadata": {},
   "source": [
    "Disegnamo il circuito"
   ]
  },
  {
   "cell_type": "code",
   "execution_count": 40,
   "metadata": {},
   "outputs": [
    {
     "data": {
      "image/png": "[encoded data removed]",
      "text/plain": [
       "<Figure size 1040x367.889 with 1 Axes>"
      ]
     },
     "execution_count": 40,
     "metadata": {},
     "output_type": "execute_result"
    }
   ],
   "source": [
    "qc.draw(output='mpl')"
   ]
  },
  {
   "cell_type": "markdown",
   "metadata": {},
   "source": [
    "### 2.2 Simulazione\n",
    "\n",
    "Effettuiamo i passaggi per eseguire l'algoritmo su un *backend* fittizio"
   ]
  },
  {
   "cell_type": "code",
   "execution_count": 41,
   "metadata": {},
   "outputs": [],
   "source": [
    "from qiskit_ibm_runtime.fake_provider import FakeBrisbane\n",
    "backend = FakeBrisbane()"
   ]
  },
  {
   "cell_type": "markdown",
   "metadata": {},
   "source": [
    "Ottimizziamo il circuito per essere eseguito su questo dispositivo"
   ]
  },
  {
   "cell_type": "code",
   "execution_count": 42,
   "metadata": {},
   "outputs": [],
   "source": [
    "from qiskit.transpiler.preset_passmanagers import generate_preset_pass_manager\n",
    "\n",
    "target = backend.target\n",
    "pm = generate_preset_pass_manager(target=target, optimization_level=3)\n",
    "\n",
    "isa_circuit = pm.run(qc)"
   ]
  },
  {
   "cell_type": "markdown",
   "metadata": {},
   "source": [
    "Eseguiamo l'algoritmo 10000 volte"
   ]
  },
  {
   "cell_type": "code",
   "execution_count": 43,
   "metadata": {},
   "outputs": [],
   "source": [
    "from qiskit_ibm_runtime import SamplerV2 as Sampler\n",
    "\n",
    "nshots = 10_000\n",
    "sampler = Sampler(mode=backend)\n",
    "sampler.options.default_shots = nshots\n",
    "result = sampler.run([isa_circuit]).result()\n",
    "counts = result[0].data.c.get_counts()"
   ]
  },
  {
   "cell_type": "markdown",
   "metadata": {},
   "source": [
    "Visualizziamo i risultati delle misure"
   ]
  },
  {
   "cell_type": "code",
   "execution_count": 44,
   "metadata": {},
   "outputs": [
    {
     "data": {
      "image/png": "[encoded data removed]",
      "text/plain": [
       "<Figure size 700x500 with 1 Axes>"
      ]
     },
     "execution_count": 44,
     "metadata": {},
     "output_type": "execute_result"
    }
   ],
   "source": [
    "from qiskit.visualization import plot_distribution\n",
    "\n",
    "plot_distribution(counts)"
   ]
  },
  {
   "cell_type": "markdown",
   "metadata": {},
   "source": [
    "### 2.3 Risultati\n",
    "\n",
    "Dal grafico possiamo notare che la probabilità di ottenere lo stato $\\vert 00 \\rangle$ è nulla, possiamo concludere che la funzione è bilanciata."
   ]
  },
  {
   "cell_type": "markdown",
   "metadata": {},
   "source": [
    "## 3. Esecuzione su un computer quantistico reale\n",
    "\n",
    "Ripetiamo i passaggi effettuati in precedenza ma questa volta utilizziamo un *backend* reale"
   ]
  },
  {
   "cell_type": "code",
   "execution_count": 45,
   "metadata": {},
   "outputs": [
    {
     "name": "stdout",
     "output_type": "stream",
     "text": [
      "backend utilizzato:  <IBMBackend('ibm_kyiv')>\n"
     ]
    }
   ],
   "source": [
    "from qiskit_ibm_runtime import QiskitRuntimeService\n",
    "\n",
    "service = QiskitRuntimeService()\n",
    " \n",
    "backend = service.least_busy(simulator=False, operational=True)\n",
    "print(\"backend utilizzato: \", backend)"
   ]
  },
  {
   "cell_type": "markdown",
   "metadata": {},
   "source": [
    "Ottimizzazione circuito"
   ]
  },
  {
   "cell_type": "code",
   "execution_count": 46,
   "metadata": {},
   "outputs": [],
   "source": [
    "target = backend.target\n",
    "pm = generate_preset_pass_manager(target=target, optimization_level=3)\n",
    "\n",
    "isa_circuit = pm.run(qc)"
   ]
  },
  {
   "cell_type": "markdown",
   "metadata": {},
   "source": [
    "Esecuzione dell'algoritmo"
   ]
  },
  {
   "cell_type": "code",
   "execution_count": 48,
   "metadata": {},
   "outputs": [
    {
     "name": "stdout",
     "output_type": "stream",
     "text": [
      "cy9t1he7v8tg008ftb9g\n"
     ]
    }
   ],
   "source": [
    "sampler = Sampler(mode=backend)\n",
    "\n",
    "nshots = 10_000\n",
    "job = sampler.run([isa_circuit], shots=nshots)\n",
    "job_id = job.job_id()\n",
    "print(job_id)"
   ]
  },
  {
   "cell_type": "markdown",
   "metadata": {},
   "source": [
    "Recupero dei dati elaborati dal computer quantistico"
   ]
  },
  {
   "cell_type": "code",
   "execution_count": 49,
   "metadata": {},
   "outputs": [],
   "source": [
    "job = service.job(job_id)\n",
    "job_result = job.result()\n",
    "counts = job_result[0].data.c.get_counts()"
   ]
  },
  {
   "cell_type": "markdown",
   "metadata": {},
   "source": [
    "Visualizzazione dei dati"
   ]
  },
  {
   "cell_type": "code",
   "execution_count": 50,
   "metadata": {},
   "outputs": [
    {
     "data": {
      "image/png": "[encoded data removed]",
      "text/plain": [
       "<Figure size 700x500 with 1 Axes>"
      ]
     },
     "execution_count": 50,
     "metadata": {},
     "output_type": "execute_result"
    }
   ],
   "source": [
    "plot_distribution(counts)"
   ]
  },
  {
   "cell_type": "markdown",
   "metadata": {},
   "source": [
    "### 3.1 Conclusioni\n",
    "\n",
    "L'esecuzione su un dispositivo reale conferma la simulazione, tuttavia possiamo notare che la probabilità di ottenere lo stato $\\vert 00 \\rangle$ non è più nulla, ma abbiamo una percentuale trascurabile dovuta al rumore dei componenti reali."
   ]
  }
 ],
 "metadata": {
  "kernelspec": {
   "display_name": "Python 3",
   "language": "python",
   "name": "python3"
  },
  "language_info": {
   "codemirror_mode": {
    "name": "ipython",
    "version": 3
   },
   "file_extension": ".py",
   "mimetype": "text/x-python",
   "name": "python",
   "nbconvert_exporter": "python",
   "pygments_lexer": "ipython3",
   "version": "3.12.0"
  }
 },
 "nbformat": 4,
 "nbformat_minor": 2
}
